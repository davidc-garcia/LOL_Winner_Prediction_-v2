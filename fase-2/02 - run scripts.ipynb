{
 "cells": [
  {
   "cell_type": "code",
   "execution_count": 1,
   "id": "fe5ec497-201d-4f0f-ab98-d8397b0a8817",
   "metadata": {},
   "outputs": [],
   "source": [
    "train_data_file  = 'train_data.csv'\n",
    "test_input_file  = 'test_data_input.csv'\n",
    "test_target_file = 'test_data_target.csv'\n",
    "test_preds_file  = 'test_predictions.csv'\n",
    "model_file       = 'model.pkl'"
   ]
  },
  {
   "cell_type": "code",
   "execution_count": 2,
   "id": "b51c0caa-e555-4d6a-980a-82377e5f2a77",
   "metadata": {},
   "outputs": [],
   "source": [
    "import sys\n",
    "python = sys.executable"
   ]
  },
  {
   "cell_type": "markdown",
   "id": "3e114703-473b-4ef4-9ca7-dc1593ca54b9",
   "metadata": {},
   "source": [
    "# train a model and save it"
   ]
  },
  {
   "cell_type": "code",
   "execution_count": 3,
   "id": "bf449072-71e9-4767-b993-344480fa8d95",
   "metadata": {},
   "outputs": [
    {
     "name": "stderr",
     "output_type": "stream",
     "text": [
      "\u001b[32m2024-04-24 17:54:24.975\u001b[0m | \u001b[1mINFO    \u001b[0m | \u001b[36m__main__\u001b[0m:\u001b[36m<module>\u001b[0m:\u001b[36m22\u001b[0m - \u001b[1moverwriting existing model file model.pkl\u001b[0m\n",
      "\u001b[32m2024-04-24 17:54:24.975\u001b[0m | \u001b[1mINFO    \u001b[0m | \u001b[36m__main__\u001b[0m:\u001b[36m<module>\u001b[0m:\u001b[36m27\u001b[0m - \u001b[1mloading train data\u001b[0m\n",
      "\u001b[32m2024-04-24 17:54:25.194\u001b[0m | \u001b[1mINFO    \u001b[0m | \u001b[36m__main__\u001b[0m:\u001b[36m<module>\u001b[0m:\u001b[36m32\u001b[0m - \u001b[1mfitting model\u001b[0m\n",
      "\u001b[32m2024-04-24 17:55:39.697\u001b[0m | \u001b[1mINFO    \u001b[0m | \u001b[36m__main__\u001b[0m:\u001b[36m<module>\u001b[0m:\u001b[36m36\u001b[0m - \u001b[1msaving model to model.pkl\u001b[0m\n"
     ]
    }
   ],
   "source": [
    "!$python scripts/train.py --model_file $model_file --data_file $train_data_file  --overwrite_model"
   ]
  },
  {
   "cell_type": "markdown",
   "id": "768df08f-9d08-4b10-9c0b-90c9950782d6",
   "metadata": {},
   "source": [
    "# make inference (predict) with a saved model"
   ]
  },
  {
   "cell_type": "code",
   "execution_count": 4,
   "id": "b62a426f-afaf-454a-bac5-dc216d7c0576",
   "metadata": {},
   "outputs": [
    {
     "name": "stderr",
     "output_type": "stream",
     "text": [
      "\u001b[32m2024-04-24 17:55:41.792\u001b[0m | \u001b[1mINFO    \u001b[0m | \u001b[36m__main__\u001b[0m:\u001b[36m<module>\u001b[0m:\u001b[36m39\u001b[0m - \u001b[1mloading input data\u001b[0m\n",
      "\u001b[32m2024-04-24 17:55:41.857\u001b[0m | \u001b[1mINFO    \u001b[0m | \u001b[36m__main__\u001b[0m:\u001b[36m<module>\u001b[0m:\u001b[36m43\u001b[0m - \u001b[1mloading model\u001b[0m\n",
      "\u001b[32m2024-04-24 17:55:41.895\u001b[0m | \u001b[1mINFO    \u001b[0m | \u001b[36m__main__\u001b[0m:\u001b[36m<module>\u001b[0m:\u001b[36m47\u001b[0m - \u001b[1mmaking predictions\u001b[0m\n",
      "\u001b[32m2024-04-24 17:55:44.023\u001b[0m | \u001b[1mINFO    \u001b[0m | \u001b[36m__main__\u001b[0m:\u001b[36m<module>\u001b[0m:\u001b[36m50\u001b[0m - \u001b[1msaving predictions to test_predictions.csv\u001b[0m\n"
     ]
    }
   ],
   "source": [
    "!$python scripts/predict.py --model_file $model_file --input_file $test_input_file  --predictions_file $test_preds_file"
   ]
  },
  {
   "cell_type": "markdown",
   "id": "423fe222-a295-459e-8ed8-30fc2baeae48",
   "metadata": {},
   "source": [
    "# load predictions and compare with target in test"
   ]
  },
  {
   "cell_type": "code",
   "execution_count": 5,
   "id": "b6513965-7e4e-44c0-a0b1-bed35fe22ef2",
   "metadata": {},
   "outputs": [
    {
     "name": "stdout",
     "output_type": "stream",
     "text": [
      "accuracy on test 0.527\n"
     ]
    }
   ],
   "source": [
    "import pandas as pd\n",
    "import numpy as np\n",
    "\n",
    "preds   = pd.read_csv(test_preds_file).values\n",
    "targets = pd.read_csv(test_target_file).values\n",
    "\n",
    "acc = np.mean(preds==targets)\n",
    "print (f\"accuracy on test {acc:.3f}\")"
   ]
  }
 ],
 "metadata": {
  "kernelspec": {
   "display_name": "Python 3",
   "language": "python",
   "name": "python3"
  },
  "language_info": {
   "codemirror_mode": {
    "name": "ipython",
    "version": 3
   },
   "file_extension": ".py",
   "mimetype": "text/x-python",
   "name": "python",
   "nbconvert_exporter": "python",
   "pygments_lexer": "ipython3",
   "version": "3.11.5"
  }
 },
 "nbformat": 4,
 "nbformat_minor": 5
}
